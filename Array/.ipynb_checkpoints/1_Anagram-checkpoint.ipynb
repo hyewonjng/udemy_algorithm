{
 "cells": [
  {
   "cell_type": "markdown",
   "id": "687d8fda-c33b-4d4a-a68a-849b54501ca6",
   "metadata": {},
   "source": [
    "# Anagram Check "
   ]
  },
  {
   "cell_type": "code",
   "execution_count": 5,
   "id": "0f6da85c-543d-4fe1-a26e-17688dacf262",
   "metadata": {},
   "outputs": [],
   "source": [
    "def anagram(e1, e2):\n",
    "    \n",
    "    # create a list of letters\n",
    "    e1 = e1.replace(\" \",\"\").lower()\n",
    "    e2 = e2.replace(\" \",\"\").lower()\n",
    "\n",
    "    # create a counting dictionary\n",
    "    e1_dict = {}\n",
    "    \n",
    "    for char in e1:\n",
    "        if char in e1_dict:\n",
    "            e1_dict[char] += 1\n",
    "        else:\n",
    "            e1_dict[char] = 1\n",
    "\n",
    "    # subtract letters from e1_dict\n",
    "    for char in e2:\n",
    "        if char in e1_dict:\n",
    "            e1_dict[char] -= 1\n",
    "        else:\n",
    "            e1_dict[char] = 1\n",
    "    # check all key values are 0\n",
    "    for key in e1_dict:\n",
    "        if e1_dict[key] != 0:\n",
    "            return False\n",
    "        else: \n",
    "            return True"
   ]
  },
  {
   "cell_type": "markdown",
   "id": "0420e089-985a-4ab6-b570-89c48ba0f3fe",
   "metadata": {},
   "source": [
    "# Testing "
   ]
  },
  {
   "cell_type": "code",
   "execution_count": 6,
   "id": "ab7efe64-2e17-460f-8577-7da4273ea1af",
   "metadata": {},
   "outputs": [
    {
     "data": {
      "text/plain": [
       "True"
      ]
     },
     "execution_count": 6,
     "metadata": {},
     "output_type": "execute_result"
    }
   ],
   "source": [
    "anagram('dog','god')"
   ]
  },
  {
   "cell_type": "code",
   "execution_count": 7,
   "id": "4790b035-e607-4ac0-8874-37bf09a0d33c",
   "metadata": {},
   "outputs": [
    {
     "data": {
      "text/plain": [
       "False"
      ]
     },
     "execution_count": 7,
     "metadata": {},
     "output_type": "execute_result"
    }
   ],
   "source": [
    "anagram('dd','aa')"
   ]
  },
  {
   "cell_type": "code",
   "execution_count": 8,
   "id": "c253f805-7553-452a-b22a-27ba8fde757f",
   "metadata": {},
   "outputs": [
    {
     "data": {
      "text/plain": [
       "True"
      ]
     },
     "execution_count": 8,
     "metadata": {},
     "output_type": "execute_result"
    }
   ],
   "source": [
    "anagram('clint eastwood','old west action')"
   ]
  },
  {
   "cell_type": "code",
   "execution_count": null,
   "id": "1f3c4f28-f8ea-4df1-a539-62f2cd0d3b20",
   "metadata": {},
   "outputs": [],
   "source": []
  }
 ],
 "metadata": {
  "kernelspec": {
   "display_name": "Python 3 (ipykernel)",
   "language": "python",
   "name": "python3"
  },
  "language_info": {
   "codemirror_mode": {
    "name": "ipython",
    "version": 3
   },
   "file_extension": ".py",
   "mimetype": "text/x-python",
   "name": "python",
   "nbconvert_exporter": "python",
   "pygments_lexer": "ipython3",
   "version": "3.9.7"
  }
 },
 "nbformat": 4,
 "nbformat_minor": 5
}
